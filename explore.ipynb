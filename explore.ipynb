{
 "cells": [
  {
   "cell_type": "code",
   "execution_count": 1,
   "id": "96c9a58d",
   "metadata": {},
   "outputs": [
    {
     "data": {
      "text/plain": [
       "['back',\n",
       " 'backward',\n",
       " 'bgcolor',\n",
       " 'bk',\n",
       " 'clear',\n",
       " 'display',\n",
       " 'down',\n",
       " 'face',\n",
       " 'fd',\n",
       " 'forward',\n",
       " 'getheading',\n",
       " 'getx',\n",
       " 'gety',\n",
       " 'goto',\n",
       " 'hideturtle',\n",
       " 'home',\n",
       " 'ht',\n",
       " 'isdown',\n",
       " 'isvisible',\n",
       " 'jumpto',\n",
       " 'left',\n",
       " 'lt',\n",
       " 'make_turtle',\n",
       " 'moveto',\n",
       " 'pd',\n",
       " 'pencolor',\n",
       " 'pendown',\n",
       " 'pensize',\n",
       " 'penup',\n",
       " 'position',\n",
       " 'pu',\n",
       " 'right',\n",
       " 'rt',\n",
       " 'seth',\n",
       " 'setheading',\n",
       " 'setpos',\n",
       " 'setposition',\n",
       " 'setspeed',\n",
       " 'setx',\n",
       " 'sety',\n",
       " 'shape',\n",
       " 'showturtle',\n",
       " 'st',\n",
       " 'teleport',\n",
       " 'up',\n",
       " 'width',\n",
       " 'window_height',\n",
       " 'window_width',\n",
       " 'write']"
      ]
     },
     "execution_count": 1,
     "metadata": {},
     "output_type": "execute_result"
    }
   ],
   "source": [
    "import inspect\n",
    "\n",
    "import jupyturtle as jt\n",
    "\n",
    "funcs = [name for name, _ in inspect.getmembers(jt, inspect.isfunction) if not name.startswith('_')]\n",
    "sorted(funcs)"
   ]
  },
  {
   "cell_type": "code",
   "execution_count": 2,
   "id": "ff7169f7-bd52-43e7-8030-c838e675740b",
   "metadata": {},
   "outputs": [],
   "source": [
    "import inspect\n",
    "from collections import defaultdict\n",
    "from operator import itemgetter\n",
    "\n",
    "import jupyturtle as jt\n",
    "\n",
    "func_names = [(name, fn) for name, fn in inspect.getmembers(jt, inspect.isfunction) if not name.startswith('_')]\n"
   ]
  },
  {
   "cell_type": "code",
   "execution_count": 3,
   "id": "b0830a1d",
   "metadata": {},
   "outputs": [
    {
     "data": {
      "text/plain": [
       "[['backward', 'back', 'bk'],\n",
       " ['forward', 'fd'],\n",
       " ['hideturtle', 'ht'],\n",
       " ['left', 'lt'],\n",
       " ['pendown', 'down', 'pd'],\n",
       " ['pensize', 'width'],\n",
       " ['penup', 'pu', 'up'],\n",
       " ['right', 'rt'],\n",
       " ['setheading', 'face', 'seth'],\n",
       " ['setposition', 'moveto', 'setpos', 'goto'],\n",
       " ['showturtle', 'st']]"
      ]
     },
     "execution_count": 3,
     "metadata": {},
     "output_type": "execute_result"
    }
   ],
   "source": [
    "\n",
    "aliases = defaultdict(list)\n",
    "\n",
    "for name, func in sorted(func_names, key=lambda nf: (-len(nf[0]), nf[0])):\n",
    "    aliases[func].append(name)\n",
    "\n",
    "alias_names = []\n",
    "for func, names in sorted(aliases.items(), key=itemgetter(1)):\n",
    "    if len(names) > 1:\n",
    "        alias_names.append(sorted(names, key=lambda name: (-len(name), name)))\n",
    "\n",
    "alias_names\n"
   ]
  },
  {
   "cell_type": "code",
   "execution_count": null,
   "id": "6b375572",
   "metadata": {},
   "outputs": [],
   "source": []
  }
 ],
 "metadata": {
  "kernelspec": {
   "display_name": "Python 3 (ipykernel)",
   "language": "python",
   "name": "python3"
  },
  "language_info": {
   "codemirror_mode": {
    "name": "ipython",
    "version": 3
   },
   "file_extension": ".py",
   "mimetype": "text/x-python",
   "name": "python",
   "nbconvert_exporter": "python",
   "pygments_lexer": "ipython3",
   "version": "3.12.2"
  }
 },
 "nbformat": 4,
 "nbformat_minor": 5
}
