{
 "cells": [
  {
   "cell_type": "markdown",
   "id": "69843690-677d-418f-a170-731803fe3cd3",
   "metadata": {},
   "source": [
    "# Lab notebook: turtle driving"
   ]
  },
  {
   "cell_type": "markdown",
   "id": "9bcee80e",
   "metadata": {},
   "source": [
    "## Imperative API\n",
    "\n",
    "The `jupyturtle` module provides several top-level functions that work as turtle commands.\n",
    "\n",
    "For example, `fd(x)` makes the turtle move forward by `x` units, leaving a trail if the turtle's pen is down.\n",
    "\n",
    "Invoking a turtle command like `fd(50)` creates the `jupyturtle.main_turtle`, if it was not created before. It is an instance of `Turtle` which includes a `Canvas`.\n",
    "\n",
    "Subsequent commands will update the same canvas. This makes more sense when you run the notebook cell by cell."
   ]
  },
  {
   "cell_type": "code",
   "execution_count": 1,
   "id": "28289186",
   "metadata": {},
   "outputs": [
    {
     "data": {
      "text/html": [
       "\n",
       "<svg width=\"400\" height=\"200\">\n",
       "    <rect width=\"100%\" height=\"100%\" fill=\"#FFF\" />\n",
       "\n",
       "    \n",
       "<g id=\"turtle106df7980\" transform=\"rotate(-210.0,225,57) translate(225, 57)\">\n",
       "    <circle stroke=\"#777\" stroke-width=\"2\" fill=\"transparent\" r=\"5.5\" cx=\"0\" cy=\"0\"/>\n",
       "    <polygon points=\"0,12 2,9 -2,9\" style=\"fill:#777;stroke:#777;stroke-width:2\"/>\n",
       "</g>\n",
       "\n",
       "<line x1=\"200\" y1=\"100\" x2=\"250\" y2=\"100\" stroke-linecap=\"round\"\n",
       "    style=\"stroke:#000;stroke-width:2\"/>\n",
       "\n",
       "<line x1=\"250\" y1=\"100\" x2=\"225\" y2=\"57\" stroke-linecap=\"round\"\n",
       "    style=\"stroke:#000;stroke-width:2\"/>\n",
       "\n",
       "</svg>"
      ],
      "text/plain": [
       "<IPython.core.display.HTML object>"
      ]
     },
     "metadata": {},
     "output_type": "display_data"
    }
   ],
   "source": [
    "from jupyturtle import *\n",
    "fd(50)"
   ]
  },
  {
   "cell_type": "code",
   "execution_count": 2,
   "id": "5d7f9eee",
   "metadata": {},
   "outputs": [],
   "source": [
    "lt(120)\n",
    "fd(50)"
   ]
  },
  {
   "cell_type": "markdown",
   "id": "b200660b",
   "metadata": {},
   "source": [
    "Alternatively, the imperative API should create a new, clean canvas with each cell.\n",
    "\n",
    "Or maybe it could create a canvas building on the previous canvas. This could be useful to convert the notebook to print format, so each cell would build on the work of previous cells.\n",
    "\n",
    "What do you think?"
   ]
  },
  {
   "cell_type": "markdown",
   "id": "69ceebde",
   "metadata": {},
   "source": [
    "## Object-oriented API\n",
    "\n",
    "Here the user explicitly builds a `Turtle` instance `t`, and drives it by calling its methods.\n",
    "\n",
    "Creating a `Turtle` also creates a `Canvas` to hold it, and the canvas is displayed below the current cell."
   ]
  },
  {
   "cell_type": "code",
   "execution_count": 3,
   "id": "0922f85e-2606-4fdb-a896-0e3fce6ae2a5",
   "metadata": {},
   "outputs": [
    {
     "data": {
      "text/html": [
       "\n",
       "<svg width=\"400\" height=\"200\">\n",
       "    <rect width=\"100%\" height=\"100%\" fill=\"#FFF\" />\n",
       "\n",
       "    \n",
       "<line x1=\"200\" y1=\"100\" x2=\"250\" y2=\"100\" stroke-linecap=\"round\"\n",
       "    style=\"stroke:#000;stroke-width:2\"/>\n",
       "\n",
       "<line x1=\"250\" y1=\"100\" x2=\"225\" y2=\"57\" stroke-linecap=\"round\"\n",
       "    style=\"stroke:#000;stroke-width:2\"/>\n",
       "\n",
       "<line x1=\"225\" y1=\"57\" x2=\"200\" y2=\"100\" stroke-linecap=\"round\"\n",
       "    style=\"stroke:#000;stroke-width:2\"/>\n",
       "\n",
       "</svg>"
      ],
      "text/plain": [
       "<IPython.core.display.HTML object>"
      ]
     },
     "metadata": {},
     "output_type": "display_data"
    }
   ],
   "source": [
    "import jupyturtle\n",
    "\n",
    "t = jupyturtle.Turtle()"
   ]
  },
  {
   "cell_type": "markdown",
   "id": "997fee57",
   "metadata": {},
   "source": [
    "Method calls on a turtle intance will update its original canvas. "
   ]
  },
  {
   "cell_type": "code",
   "execution_count": 4,
   "id": "bc7a65da",
   "metadata": {},
   "outputs": [],
   "source": [
    "t.forward(50)\n",
    "t.left(120)\n",
    "t.forward(50)\n",
    "t.left(120)"
   ]
  },
  {
   "cell_type": "code",
   "execution_count": 5,
   "id": "d71d1097",
   "metadata": {},
   "outputs": [],
   "source": [
    "t.forward(50)\n",
    "t.left(120)\n"
   ]
  },
  {
   "cell_type": "markdown",
   "id": "dea440b5",
   "metadata": {},
   "source": [
    "## Inspecting the SVG"
   ]
  },
  {
   "cell_type": "code",
   "execution_count": 6,
   "id": "7a3c0cb5",
   "metadata": {},
   "outputs": [
    {
     "name": "stdout",
     "output_type": "stream",
     "text": [
      "\n",
      "<svg width=\"400\" height=\"200\">\n",
      "    <rect width=\"100%\" height=\"100%\" fill=\"#FFF\" />\n",
      "\n",
      "    \n",
      "<g id=\"turtle106e20590\" transform=\"rotate(-450.0,200,100) translate(200, 100)\">\n",
      "    <circle stroke=\"#777\" stroke-width=\"2\" fill=\"transparent\" r=\"5.5\" cx=\"0\" cy=\"0\"/>\n",
      "    <polygon points=\"0,12 2,9 -2,9\" style=\"fill:#777;stroke:#777;stroke-width:2\"/>\n",
      "</g>\n",
      "\n",
      "<line x1=\"200\" y1=\"100\" x2=\"250\" y2=\"100\" stroke-linecap=\"round\"\n",
      "    style=\"stroke:#000;stroke-width:2\"/>\n",
      "\n",
      "<line x1=\"250\" y1=\"100\" x2=\"225\" y2=\"57\" stroke-linecap=\"round\"\n",
      "    style=\"stroke:#000;stroke-width:2\"/>\n",
      "\n",
      "<line x1=\"225\" y1=\"57\" x2=\"200\" y2=\"100\" stroke-linecap=\"round\"\n",
      "    style=\"stroke:#000;stroke-width:2\"/>\n",
      "\n",
      "</svg>\n"
     ]
    }
   ],
   "source": [
    "print(t.get_SVG())\n"
   ]
  },
  {
   "cell_type": "code",
   "execution_count": 7,
   "id": "e6f929e5",
   "metadata": {},
   "outputs": [
    {
     "name": "stdout",
     "output_type": "stream",
     "text": [
      "\n",
      "<svg width=\"400\" height=\"200\">\n",
      "    <rect width=\"100%\" height=\"100%\" fill=\"#FFF\" />\n",
      "\n",
      "    \n",
      "<line x1=\"200\" y1=\"100\" x2=\"250\" y2=\"100\" stroke-linecap=\"round\"\n",
      "    style=\"stroke:#000;stroke-width:2\"/>\n",
      "\n",
      "<line x1=\"250\" y1=\"100\" x2=\"225\" y2=\"57\" stroke-linecap=\"round\"\n",
      "    style=\"stroke:#000;stroke-width:2\"/>\n",
      "\n",
      "<line x1=\"225\" y1=\"57\" x2=\"200\" y2=\"100\" stroke-linecap=\"round\"\n",
      "    style=\"stroke:#000;stroke-width:2\"/>\n",
      "\n",
      "</svg>\n"
     ]
    }
   ],
   "source": [
    "t.hide()\n",
    "print(t.get_SVG())"
   ]
  },
  {
   "cell_type": "code",
   "execution_count": null,
   "id": "03b6f355",
   "metadata": {},
   "outputs": [],
   "source": []
  }
 ],
 "metadata": {
  "kernelspec": {
   "display_name": "Python 3 (ipykernel)",
   "language": "python",
   "name": "python3"
  },
  "language_info": {
   "codemirror_mode": {
    "name": "ipython",
    "version": 3
   },
   "file_extension": ".py",
   "mimetype": "text/x-python",
   "name": "python",
   "nbconvert_exporter": "python",
   "pygments_lexer": "ipython3",
   "version": "3.12.2"
  }
 },
 "nbformat": 4,
 "nbformat_minor": 5
}
