{
 "cells": [
  {
   "cell_type": "markdown",
   "id": "69843690-677d-418f-a170-731803fe3cd3",
   "metadata": {},
   "source": [
    "# Lab: turtle driving"
   ]
  },
  {
   "cell_type": "code",
   "execution_count": 1,
   "id": "0922f85e-2606-4fdb-a896-0e3fce6ae2a5",
   "metadata": {},
   "outputs": [
    {
     "data": {
      "text/html": [
       "\n",
       "    <svg width=\"400\" height=\"200\">\n",
       "        <rect width=\"100%\" height=\"100%\" fill=\"#FFF\" />\n",
       "        <g transform=\"rotate(-120.0,243,75) translate(243, 75)\">\n",
       "        <circle stroke=\"#777\" stroke-width=\"2\" fill=\"transparent\" r=\"5.5\" cx=\"0\" cy=\"0\"/>\n",
       "        <polygon points=\"0,12 2,9 -2,9\" style=\"fill:#777;stroke:#777;stroke-width:2\"/>\n",
       "        </g>\n",
       "\n",
       "    <line x1=\"200\" y1=\"100\" x2=\"243\" y2=\"75\" stroke-linecap=\"round\"\n",
       "     style=\"stroke:#000;stroke-width:2\"/>\n",
       "\n",
       "\n",
       "    </svg>\n"
      ],
      "text/plain": [
       "<IPython.core.display.HTML object>"
      ]
     },
     "metadata": {},
     "output_type": "display_data"
    }
   ],
   "source": [
    "from jupyturtle import *\n",
    "\n",
    "lt(30)\n",
    "fd(50)"
   ]
  },
  {
   "cell_type": "code",
   "execution_count": null,
   "id": "bc7a65da",
   "metadata": {},
   "outputs": [],
   "source": []
  }
 ],
 "metadata": {
  "kernelspec": {
   "display_name": "Python 3 (ipykernel)",
   "language": "python",
   "name": "python3"
  },
  "language_info": {
   "codemirror_mode": {
    "name": "ipython",
    "version": 3
   },
   "file_extension": ".py",
   "mimetype": "text/x-python",
   "name": "python",
   "nbconvert_exporter": "python",
   "pygments_lexer": "ipython3",
   "version": "3.12.2"
  }
 },
 "nbformat": 4,
 "nbformat_minor": 5
}
