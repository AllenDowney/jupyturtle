{
 "cells": [
  {
   "cell_type": "code",
   "execution_count": 1,
   "id": "6eb1b71f-f8ea-4edc-b607-5c629f3f4589",
   "metadata": {},
   "outputs": [
    {
     "data": {
      "application/vnd.jupyter.widget-view+json": {
       "model_id": "fd45233181d440289a835c994599aa38",
       "version_major": 2,
       "version_minor": 0
      },
      "text/plain": [
       "MultiCanvas(height=200, width=400)"
      ]
     },
     "metadata": {},
     "output_type": "display_data"
    }
   ],
   "source": [
    "from jupyturtle import *\n",
    "fd(50)"
   ]
  },
  {
   "cell_type": "code",
   "execution_count": 2,
   "id": "d33ff3e0-b7b9-4047-8f3c-1b182802812e",
   "metadata": {},
   "outputs": [
    {
     "data": {
      "application/vnd.jupyter.widget-view+json": {
       "model_id": "14025fe286204bbeadb5215d52ed1332",
       "version_major": 2,
       "version_minor": 0
      },
      "text/plain": [
       "MultiCanvas(height=200, width=400)"
      ]
     },
     "metadata": {},
     "output_type": "display_data"
    }
   ],
   "source": [
    "make_turtle()\n",
    "lt(90)\n",
    "fd(50)"
   ]
  },
  {
   "cell_type": "code",
   "execution_count": 3,
   "id": "6da8d655-3e98-4020-b924-ab28d004f2a4",
   "metadata": {},
   "outputs": [
    {
     "data": {
      "application/vnd.jupyter.widget-view+json": {
       "model_id": "f4c80e13078e4c60b0ed23f9713d20f2",
       "version_major": 2,
       "version_minor": 0
      },
      "text/plain": [
       "MultiCanvas(height=200, width=400)"
      ]
     },
     "metadata": {},
     "output_type": "display_data"
    }
   ],
   "source": [
    "make_turtle()\n",
    "lt(180)\n",
    "fd(50)"
   ]
  },
  {
   "cell_type": "code",
   "execution_count": 4,
   "id": "9158e169-c112-4407-b8c0-b887646ff0be",
   "metadata": {},
   "outputs": [
    {
     "data": {
      "application/vnd.jupyter.widget-view+json": {
       "model_id": "483e1b5ef16e49f28701b930925e3099",
       "version_major": 2,
       "version_minor": 0
      },
      "text/plain": [
       "MultiCanvas(height=200, width=400)"
      ]
     },
     "metadata": {},
     "output_type": "display_data"
    }
   ],
   "source": [
    "make_turtle()\n",
    "rt(90)\n",
    "fd(50)"
   ]
  },
  {
   "cell_type": "code",
   "execution_count": null,
   "id": "8e969120-7110-4db0-89a3-b27c34f30ebf",
   "metadata": {},
   "outputs": [],
   "source": []
  }
 ],
 "metadata": {
  "kernelspec": {
   "display_name": "Python 3 (ipykernel)",
   "language": "python",
   "name": "python3"
  },
  "language_info": {
   "codemirror_mode": {
    "name": "ipython",
    "version": 3
   },
   "file_extension": ".py",
   "mimetype": "text/x-python",
   "name": "python",
   "nbconvert_exporter": "python",
   "pygments_lexer": "ipython3",
   "version": "3.12.2"
  }
 },
 "nbformat": 4,
 "nbformat_minor": 5
}
