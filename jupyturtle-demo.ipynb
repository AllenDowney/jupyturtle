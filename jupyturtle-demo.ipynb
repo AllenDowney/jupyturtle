{
 "cells": [
  {
   "cell_type": "code",
   "execution_count": 1,
   "id": "8cbf5098-ea7b-4512-ab70-892f3f731b8e",
   "metadata": {},
   "outputs": [
    {
     "name": "stdout",
     "output_type": "stream",
     "text": [
      "back background_color backward bgcolor bk clear color contextlib display down drawing_window face fd forward getheading getx gety goto heading hideturtle home ht is_pen_down is_turtle_visible isdown isvisible jumpto left lt make_turtle math moveto pd pen_color pen_width pencolor pendown pensize penup pos position pu re right rt seth setheading setpos setposition setx sety shape showturtle speed st svg_lines_string teleport time turtle_degree turtle_pos turtle_shape turtle_speed up width window_height window_size window_width write xcor ycor\n"
     ]
    }
   ],
   "source": [
    "import jupyturtle as jt\n",
    "names = [name for name in dir(jt) if not name.startswith('_') and name.lower() == name]\n",
    "print(' '.join(names))"
   ]
  },
  {
   "cell_type": "code",
   "execution_count": 2,
   "id": "31210538-b08d-4be0-acd5-c1a6397e649f",
   "metadata": {},
   "outputs": [
    {
     "data": {
      "text/html": [
       "\n",
       "      <svg width=\"300\" height=\"150\">\n",
       "        <rect width=\"100%\" height=\"100%\" fill=\"white\"/>\n",
       "        <line x1=\"0\" y1=\"0\" x2=\"0\" y2=\"150\" stroke-linecap=\"round\" style=\"stroke:#663399;stroke-width:2\"/><line x1=\"0\" y1=\"150\" x2=\"300\" y2=\"150\" stroke-linecap=\"round\" style=\"stroke:#663399;stroke-width:2\"/><line x1=\"300\" y1=\"150\" x2=\"300\" y2=\"0\" stroke-linecap=\"round\" style=\"stroke:#663399;stroke-width:2\"/><line x1=\"300\" y1=\"0\" x2=\"0\" y2=\"0\" stroke-linecap=\"round\" style=\"stroke:#663399;stroke-width:2\"/><line x1=\"150.0\" y1=\"150\" x2=\"200.0\" y2=\"150.0\" stroke-linecap=\"round\" style=\"stroke:#663399;stroke-width:2\"/><line x1=\"200.0\" y1=\"150.0\" x2=\"175.0\" y2=\"106.699\" stroke-linecap=\"round\" style=\"stroke:#663399;stroke-width:2\"/><line x1=\"175.0\" y1=\"106.699\" x2=\"150.0\" y2=\"150.0\" stroke-linecap=\"round\" style=\"stroke:#663399;stroke-width:2\"/><line x1=\"150.0\" y1=\"150.0\" x2=\"200.0\" y2=\"150.0\" stroke-linecap=\"round\" style=\"stroke:#663399;stroke-width:2\"/><line x1=\"200.0\" y1=\"150.0\" x2=\"200.0\" y2=\"100.0\" stroke-linecap=\"round\" style=\"stroke:#663399;stroke-width:2\"/><line x1=\"200.0\" y1=\"100.0\" x2=\"150.0\" y2=\"100.0\" stroke-linecap=\"round\" style=\"stroke:#663399;stroke-width:2\"/><line x1=\"150.0\" y1=\"100.0\" x2=\"150.0\" y2=\"150.0\" stroke-linecap=\"round\" style=\"stroke:#663399;stroke-width:2\"/><line x1=\"150.0\" y1=\"150.0\" x2=\"200.0\" y2=\"150.0\" stroke-linecap=\"round\" style=\"stroke:#663399;stroke-width:2\"/><line x1=\"200.0\" y1=\"150.0\" x2=\"215.451\" y2=\"102.447\" stroke-linecap=\"round\" style=\"stroke:#663399;stroke-width:2\"/><line x1=\"215.451\" y1=\"102.447\" x2=\"175.0\" y2=\"73.058\" stroke-linecap=\"round\" style=\"stroke:#663399;stroke-width:2\"/><line x1=\"175.0\" y1=\"73.058\" x2=\"134.549\" y2=\"102.447\" stroke-linecap=\"round\" style=\"stroke:#663399;stroke-width:2\"/><line x1=\"134.549\" y1=\"102.447\" x2=\"150.0\" y2=\"150.0\" stroke-linecap=\"round\" style=\"stroke:#663399;stroke-width:2\"/><line x1=\"150.0\" y1=\"150.0\" x2=\"200.0\" y2=\"150.0\" stroke-linecap=\"round\" style=\"stroke:#663399;stroke-width:2\"/><line x1=\"200.0\" y1=\"150.0\" x2=\"225.0\" y2=\"106.699\" stroke-linecap=\"round\" style=\"stroke:#663399;stroke-width:2\"/><line x1=\"225.0\" y1=\"106.699\" x2=\"200.0\" y2=\"63.398\" stroke-linecap=\"round\" style=\"stroke:#663399;stroke-width:2\"/><line x1=\"200.0\" y1=\"63.398\" x2=\"150.0\" y2=\"63.398\" stroke-linecap=\"round\" style=\"stroke:#663399;stroke-width:2\"/><line x1=\"150.0\" y1=\"63.398\" x2=\"125.0\" y2=\"106.699\" stroke-linecap=\"round\" style=\"stroke:#663399;stroke-width:2\"/><line x1=\"125.0\" y1=\"106.699\" x2=\"150.0\" y2=\"150.0\" stroke-linecap=\"round\" style=\"stroke:#663399;stroke-width:2\"/><line x1=\"150.0\" y1=\"150.0\" x2=\"200.0\" y2=\"150.0\" stroke-linecap=\"round\" style=\"stroke:#663399;stroke-width:2\"/><line x1=\"200.0\" y1=\"150.0\" x2=\"231.174\" y2=\"110.908\" stroke-linecap=\"round\" style=\"stroke:#663399;stroke-width:2\"/><line x1=\"231.174\" y1=\"110.908\" x2=\"220.048\" y2=\"62.162\" stroke-linecap=\"round\" style=\"stroke:#663399;stroke-width:2\"/><line x1=\"220.048\" y1=\"62.162\" x2=\"175.0\" y2=\"40.468\" stroke-linecap=\"round\" style=\"stroke:#663399;stroke-width:2\"/><line x1=\"175.0\" y1=\"40.468\" x2=\"129.952\" y2=\"62.162\" stroke-linecap=\"round\" style=\"stroke:#663399;stroke-width:2\"/><line x1=\"129.952\" y1=\"62.162\" x2=\"118.826\" y2=\"110.908\" stroke-linecap=\"round\" style=\"stroke:#663399;stroke-width:2\"/><line x1=\"118.826\" y1=\"110.908\" x2=\"150.0\" y2=\"150.0\" stroke-linecap=\"round\" style=\"stroke:#663399;stroke-width:2\"/><line x1=\"150.0\" y1=\"150.0\" x2=\"200.0\" y2=\"150.0\" stroke-linecap=\"round\" style=\"stroke:#663399;stroke-width:2\"/><line x1=\"200.0\" y1=\"150.0\" x2=\"235.355\" y2=\"114.645\" stroke-linecap=\"round\" style=\"stroke:#663399;stroke-width:2\"/><line x1=\"235.355\" y1=\"114.645\" x2=\"235.355\" y2=\"64.645\" stroke-linecap=\"round\" style=\"stroke:#663399;stroke-width:2\"/><line x1=\"235.355\" y1=\"64.645\" x2=\"200.0\" y2=\"29.29\" stroke-linecap=\"round\" style=\"stroke:#663399;stroke-width:2\"/><line x1=\"200.0\" y1=\"29.29\" x2=\"150.0\" y2=\"29.29\" stroke-linecap=\"round\" style=\"stroke:#663399;stroke-width:2\"/><line x1=\"150.0\" y1=\"29.29\" x2=\"114.645\" y2=\"64.645\" stroke-linecap=\"round\" style=\"stroke:#663399;stroke-width:2\"/><line x1=\"114.645\" y1=\"64.645\" x2=\"114.645\" y2=\"114.645\" stroke-linecap=\"round\" style=\"stroke:#663399;stroke-width:2\"/><line x1=\"114.645\" y1=\"114.645\" x2=\"150.0\" y2=\"150.0\" stroke-linecap=\"round\" style=\"stroke:#663399;stroke-width:2\"/>\n",
       "        \n",
       "      <g visibility=\"visible\" transform=\"rotate(269.99999999999994,150.0,150.0) translate(150.0, 150.0)\">\n",
       "        <circle stroke=\"gray\" stroke-width=\"2\" fill=\"transparent\" r=\"5.5\" cx=\"0\" cy=\"0\"/>\n",
       "        <polygon points=\"0,12 2,9 -2,9\" style=\"fill:gray;stroke:gray;stroke-width:2\"/>\n",
       "      </g>\n",
       "    \n",
       "      </svg>\n",
       "    "
      ],
      "text/plain": [
       "<IPython.core.display.HTML object>"
      ]
     },
     "metadata": {},
     "output_type": "display_data"
    },
    {
     "name": "stdout",
     "output_type": "stream",
     "text": [
      "(150, 75)\n"
     ]
    }
   ],
   "source": [
    "from jupyturtle import *\n",
    "\n",
    "make_turtle()\n",
    "\n",
    "print(turtle_pos)\n",
    "\n",
    "with teleport(0, 0):\n",
    "    goto(0, window_height())\n",
    "    goto(window_width(), window_height())\n",
    "    goto(window_width(), 0)\n",
    "    goto(0, 0)\n",
    "\n",
    "def polygon(sides):\n",
    "    for i in range(sides):\n",
    "        fd(50)\n",
    "        lt(360/sides)\n",
    "\n",
    "jumpto(window_width()/2, window_height())\n",
    "for s in range(3, 9):\n",
    "    polygon(s)"
   ]
  },
  {
   "cell_type": "code",
   "execution_count": 3,
   "id": "7f2b93ef-b232-49dc-828d-c6fba4f31cfd",
   "metadata": {},
   "outputs": [
    {
     "data": {
      "text/plain": [
       "\u001b[0;31mSignature:\u001b[0m \u001b[0mteleport\u001b[0m\u001b[0;34m(\u001b[0m\u001b[0mx\u001b[0m\u001b[0;34m,\u001b[0m \u001b[0my\u001b[0m\u001b[0;34m=\u001b[0m\u001b[0;32mNone\u001b[0m\u001b[0;34m)\u001b[0m\u001b[0;34m\u001b[0m\u001b[0;34m\u001b[0m\u001b[0m\n",
       "\u001b[0;31mDocstring:\u001b[0m <no docstring>\n",
       "\u001b[0;31mFile:\u001b[0m      ~/prj/jupyturtle/jupyturtle.py\n",
       "\u001b[0;31mType:\u001b[0m      function"
      ]
     },
     "metadata": {},
     "output_type": "display_data"
    }
   ],
   "source": [
    "?teleport"
   ]
  },
  {
   "cell_type": "code",
   "execution_count": null,
   "id": "ff7169f7-bd52-43e7-8030-c838e675740b",
   "metadata": {},
   "outputs": [],
   "source": []
  }
 ],
 "metadata": {
  "kernelspec": {
   "display_name": "Python 3 (ipykernel)",
   "language": "python",
   "name": "python3"
  },
  "language_info": {
   "codemirror_mode": {
    "name": "ipython",
    "version": 3
   },
   "file_extension": ".py",
   "mimetype": "text/x-python",
   "name": "python",
   "nbconvert_exporter": "python",
   "pygments_lexer": "ipython3",
   "version": "3.12.2"
  }
 },
 "nbformat": 4,
 "nbformat_minor": 5
}
