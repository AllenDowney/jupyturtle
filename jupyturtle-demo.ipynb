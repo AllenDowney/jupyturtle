{
 "cells": [
  {
   "cell_type": "code",
   "execution_count": 1,
   "id": "8cbf5098-ea7b-4512-ab70-892f3f731b8e",
   "metadata": {},
   "outputs": [
    {
     "name": "stdout",
     "output_type": "stream",
     "text": [
      "back background_color backward bgcolor bk clear color display down drawing_window face fd forward getheading getx gety goto heading hideturtle home ht is_pen_down is_turtle_visible isdown isvisible jumpto left lt make_turtle math moveto pd pen_color pen_width pencolor pendown pensize penup pos position pu re right rt seth setheading setpos setposition setx sety shape showturtle speed st svg_lines_string time turtle_degree turtle_pos turtle_shape turtle_speed up width window_height window_size window_width write xcor ycor\n"
     ]
    }
   ],
   "source": [
    "import jupyturtle as jt\n",
    "names = [name for name in dir(jt) if not name.startswith('_') and name.lower() == name]\n",
    "print(' '.join(names))"
   ]
  },
  {
   "cell_type": "code",
   "execution_count": 2,
   "id": "31210538-b08d-4be0-acd5-c1a6397e649f",
   "metadata": {},
   "outputs": [
    {
     "data": {
      "text/html": [
       "\n",
       "      <svg width=\"300\" height=\"150\">\n",
       "        <rect width=\"100%\" height=\"100%\" fill=\"white\"/>\n",
       "        \n",
       "        \n",
       "      <g visibility=\"visible\" transform=\"rotate(-90,150,75) translate(150, 75)\">\n",
       "        <circle stroke=\"gray\" stroke-width=\"2\" fill=\"transparent\" r=\"5.5\" cx=\"0\" cy=\"0\"/>\n",
       "        <polygon points=\"0,12 2,9 -2,9\" style=\"fill:gray;stroke:gray;stroke-width:2\"/>\n",
       "      </g>\n",
       "    \n",
       "      </svg>\n",
       "    "
      ],
      "text/plain": [
       "<IPython.core.display.HTML object>"
      ]
     },
     "metadata": {},
     "output_type": "display_data"
    },
    {
     "name": "stdout",
     "output_type": "stream",
     "text": [
      "(300, 150)\n"
     ]
    },
    {
     "data": {
      "text/plain": [
       "\u001b[0;31mSignature:\u001b[0m \u001b[0mgoto\u001b[0m\u001b[0;34m(\u001b[0m\u001b[0mx\u001b[0m\u001b[0;34m,\u001b[0m \u001b[0my\u001b[0m\u001b[0;34m=\u001b[0m\u001b[0;32mNone\u001b[0m\u001b[0;34m)\u001b[0m\u001b[0;34m\u001b[0m\u001b[0;34m\u001b[0m\u001b[0m\n",
       "\u001b[0;31mDocstring:\u001b[0m <no docstring>\n",
       "\u001b[0;31mFile:\u001b[0m      ~/prj/jupyturtle/jupyturtle.py\n",
       "\u001b[0;31mType:\u001b[0m      function"
      ]
     },
     "metadata": {},
     "output_type": "display_data"
    }
   ],
   "source": [
    "from jupyturtle import *\n",
    "\n",
    "make_turtle()\n",
    "\n",
    "print(window_size)\n",
    "width, height = window_size\n",
    "?goto"
   ]
  },
  {
   "cell_type": "code",
   "execution_count": null,
   "id": "b2b4f39b-3888-4b97-8019-e75b18a62270",
   "metadata": {},
   "outputs": [],
   "source": []
  }
 ],
 "metadata": {
  "kernelspec": {
   "display_name": "Python 3 (ipykernel)",
   "language": "python",
   "name": "python3"
  },
  "language_info": {
   "codemirror_mode": {
    "name": "ipython",
    "version": 3
   },
   "file_extension": ".py",
   "mimetype": "text/x-python",
   "name": "python",
   "nbconvert_exporter": "python",
   "pygments_lexer": "ipython3",
   "version": "3.12.2"
  }
 },
 "nbformat": 4,
 "nbformat_minor": 5
}
